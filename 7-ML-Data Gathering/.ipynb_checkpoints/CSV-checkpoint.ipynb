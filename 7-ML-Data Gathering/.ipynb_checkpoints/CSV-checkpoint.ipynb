{
 "cells": [
  {
   "cell_type": "markdown",
   "id": "a1f9354e-b8a0-40da-a43d-03904bad4ee3",
   "metadata": {},
   "source": [
    "# Importing Pandas\n"
   ]
  },
  {
   "cell_type": "code",
   "execution_count": 1,
   "id": "e03ea1df-2929-4999-8c14-8adbc320359e",
   "metadata": {},
   "outputs": [],
   "source": [
    "import pandas as pd"
   ]
  },
  {
   "cell_type": "markdown",
   "id": "33580e7d-dc57-46a4-814c-ec8ade39b306",
   "metadata": {},
   "source": [
    "## Opening csv file from folder"
   ]
  },
  {
   "cell_type": "code",
   "execution_count": 2,
   "id": "685bd614-6cd6-442f-b63f-b32188a02441",
   "metadata": {},
   "outputs": [
    {
     "data": {
      "text/html": [
       "<div>\n",
       "<style scoped>\n",
       "    .dataframe tbody tr th:only-of-type {\n",
       "        vertical-align: middle;\n",
       "    }\n",
       "\n",
       "    .dataframe tbody tr th {\n",
       "        vertical-align: top;\n",
       "    }\n",
       "\n",
       "    .dataframe thead th {\n",
       "        text-align: right;\n",
       "    }\n",
       "</style>\n",
       "<table border=\"1\" class=\"dataframe\">\n",
       "  <thead>\n",
       "    <tr style=\"text-align: right;\">\n",
       "      <th></th>\n",
       "      <th>Unnamed: 0</th>\n",
       "      <th>cgpa</th>\n",
       "      <th>iq</th>\n",
       "      <th>placement</th>\n",
       "    </tr>\n",
       "  </thead>\n",
       "  <tbody>\n",
       "    <tr>\n",
       "      <th>0</th>\n",
       "      <td>0</td>\n",
       "      <td>6.8</td>\n",
       "      <td>123.0</td>\n",
       "      <td>1</td>\n",
       "    </tr>\n",
       "    <tr>\n",
       "      <th>1</th>\n",
       "      <td>1</td>\n",
       "      <td>5.9</td>\n",
       "      <td>106.0</td>\n",
       "      <td>0</td>\n",
       "    </tr>\n",
       "    <tr>\n",
       "      <th>2</th>\n",
       "      <td>2</td>\n",
       "      <td>5.3</td>\n",
       "      <td>121.0</td>\n",
       "      <td>0</td>\n",
       "    </tr>\n",
       "    <tr>\n",
       "      <th>3</th>\n",
       "      <td>3</td>\n",
       "      <td>7.4</td>\n",
       "      <td>132.0</td>\n",
       "      <td>1</td>\n",
       "    </tr>\n",
       "    <tr>\n",
       "      <th>4</th>\n",
       "      <td>4</td>\n",
       "      <td>5.8</td>\n",
       "      <td>142.0</td>\n",
       "      <td>0</td>\n",
       "    </tr>\n",
       "    <tr>\n",
       "      <th>...</th>\n",
       "      <td>...</td>\n",
       "      <td>...</td>\n",
       "      <td>...</td>\n",
       "      <td>...</td>\n",
       "    </tr>\n",
       "    <tr>\n",
       "      <th>95</th>\n",
       "      <td>95</td>\n",
       "      <td>4.3</td>\n",
       "      <td>200.0</td>\n",
       "      <td>0</td>\n",
       "    </tr>\n",
       "    <tr>\n",
       "      <th>96</th>\n",
       "      <td>96</td>\n",
       "      <td>4.4</td>\n",
       "      <td>42.0</td>\n",
       "      <td>0</td>\n",
       "    </tr>\n",
       "    <tr>\n",
       "      <th>97</th>\n",
       "      <td>97</td>\n",
       "      <td>6.7</td>\n",
       "      <td>182.0</td>\n",
       "      <td>1</td>\n",
       "    </tr>\n",
       "    <tr>\n",
       "      <th>98</th>\n",
       "      <td>98</td>\n",
       "      <td>6.3</td>\n",
       "      <td>103.0</td>\n",
       "      <td>1</td>\n",
       "    </tr>\n",
       "    <tr>\n",
       "      <th>99</th>\n",
       "      <td>99</td>\n",
       "      <td>6.2</td>\n",
       "      <td>113.0</td>\n",
       "      <td>1</td>\n",
       "    </tr>\n",
       "  </tbody>\n",
       "</table>\n",
       "<p>100 rows × 4 columns</p>\n",
       "</div>"
      ],
      "text/plain": [
       "    Unnamed: 0  cgpa     iq  placement\n",
       "0            0   6.8  123.0          1\n",
       "1            1   5.9  106.0          0\n",
       "2            2   5.3  121.0          0\n",
       "3            3   7.4  132.0          1\n",
       "4            4   5.8  142.0          0\n",
       "..         ...   ...    ...        ...\n",
       "95          95   4.3  200.0          0\n",
       "96          96   4.4   42.0          0\n",
       "97          97   6.7  182.0          1\n",
       "98          98   6.3  103.0          1\n",
       "99          99   6.2  113.0          1\n",
       "\n",
       "[100 rows x 4 columns]"
      ]
     },
     "execution_count": 2,
     "metadata": {},
     "output_type": "execute_result"
    }
   ],
   "source": [
    "pd.read_csv('placement.csv')"
   ]
  },
  {
   "cell_type": "markdown",
   "id": "ca5b29d9-16cb-47ca-8ddc-8b78789fcd4c",
   "metadata": {},
   "source": [
    "## Opening csv file from a URL"
   ]
  },
  {
   "cell_type": "code",
   "execution_count": 3,
   "id": "1fd113da-20b5-4c0d-ae5b-a2b6144ccc36",
   "metadata": {},
   "outputs": [
    {
     "data": {
      "text/html": [
       "<div>\n",
       "<style scoped>\n",
       "    .dataframe tbody tr th:only-of-type {\n",
       "        vertical-align: middle;\n",
       "    }\n",
       "\n",
       "    .dataframe tbody tr th {\n",
       "        vertical-align: top;\n",
       "    }\n",
       "\n",
       "    .dataframe thead th {\n",
       "        text-align: right;\n",
       "    }\n",
       "</style>\n",
       "<table border=\"1\" class=\"dataframe\">\n",
       "  <thead>\n",
       "    <tr style=\"text-align: right;\">\n",
       "      <th></th>\n",
       "      <th>Country</th>\n",
       "      <th>Region</th>\n",
       "    </tr>\n",
       "  </thead>\n",
       "  <tbody>\n",
       "    <tr>\n",
       "      <th>0</th>\n",
       "      <td>Algeria</td>\n",
       "      <td>AFRICA</td>\n",
       "    </tr>\n",
       "    <tr>\n",
       "      <th>1</th>\n",
       "      <td>Angola</td>\n",
       "      <td>AFRICA</td>\n",
       "    </tr>\n",
       "    <tr>\n",
       "      <th>2</th>\n",
       "      <td>Benin</td>\n",
       "      <td>AFRICA</td>\n",
       "    </tr>\n",
       "    <tr>\n",
       "      <th>3</th>\n",
       "      <td>Botswana</td>\n",
       "      <td>AFRICA</td>\n",
       "    </tr>\n",
       "    <tr>\n",
       "      <th>4</th>\n",
       "      <td>Burkina</td>\n",
       "      <td>AFRICA</td>\n",
       "    </tr>\n",
       "    <tr>\n",
       "      <th>...</th>\n",
       "      <td>...</td>\n",
       "      <td>...</td>\n",
       "    </tr>\n",
       "    <tr>\n",
       "      <th>189</th>\n",
       "      <td>Paraguay</td>\n",
       "      <td>SOUTH AMERICA</td>\n",
       "    </tr>\n",
       "    <tr>\n",
       "      <th>190</th>\n",
       "      <td>Peru</td>\n",
       "      <td>SOUTH AMERICA</td>\n",
       "    </tr>\n",
       "    <tr>\n",
       "      <th>191</th>\n",
       "      <td>Suriname</td>\n",
       "      <td>SOUTH AMERICA</td>\n",
       "    </tr>\n",
       "    <tr>\n",
       "      <th>192</th>\n",
       "      <td>Uruguay</td>\n",
       "      <td>SOUTH AMERICA</td>\n",
       "    </tr>\n",
       "    <tr>\n",
       "      <th>193</th>\n",
       "      <td>Venezuela</td>\n",
       "      <td>SOUTH AMERICA</td>\n",
       "    </tr>\n",
       "  </tbody>\n",
       "</table>\n",
       "<p>194 rows × 2 columns</p>\n",
       "</div>"
      ],
      "text/plain": [
       "       Country         Region\n",
       "0      Algeria         AFRICA\n",
       "1       Angola         AFRICA\n",
       "2        Benin         AFRICA\n",
       "3     Botswana         AFRICA\n",
       "4      Burkina         AFRICA\n",
       "..         ...            ...\n",
       "189   Paraguay  SOUTH AMERICA\n",
       "190       Peru  SOUTH AMERICA\n",
       "191   Suriname  SOUTH AMERICA\n",
       "192    Uruguay  SOUTH AMERICA\n",
       "193  Venezuela  SOUTH AMERICA\n",
       "\n",
       "[194 rows x 2 columns]"
      ]
     },
     "execution_count": 3,
     "metadata": {},
     "output_type": "execute_result"
    }
   ],
   "source": [
    "import requests\n",
    "from io import StringIO\n",
    "\n",
    "url = \"https://raw.githubusercontent.com/cs109/2014_data/master/countries.csv\"\n",
    "headers = {\"User-Agent\": \"Mozilla/5.0 (Macintosh; Intel Mac OS X 10.14; rv:66.0) Gecko/20100101 Firefox/66.0\"}\n",
    "req = requests.get(url, headers=headers)\n",
    "data = StringIO(req.text)\n",
    "\n",
    "pd.read_csv(data)"
   ]
  },
  {
   "cell_type": "markdown",
   "id": "f11da97c-82ec-41db-a7e0-609d7cf7d093",
   "metadata": {},
   "source": [
    "## Sep Parameter"
   ]
  },
  {
   "cell_type": "code",
   "execution_count": 5,
   "id": "e7ca9f7b-78b1-4e3b-9520-0c8fe394dee9",
   "metadata": {},
   "outputs": [],
   "source": [
    "# this function will read the tsv file when give its sep parameter the \\t value\n",
    "#pd.read_csv('your-tsv-file.tsv', sep='\\t')\n",
    "#If there are no column name in the your data set than you can pass names parameter to read_csv function \n",
    "#pd.read_csv('your-tsv-file.tsv', sep='\\t', names = ['column','names'])"
   ]
  },
  {
   "cell_type": "markdown",
   "id": "b636a0e7-9f1f-4b07-87e1-ff983f04f583",
   "metadata": {},
   "source": [
    "## Index_col Parameter"
   ]
  },
  {
   "cell_type": "code",
   "execution_count": 8,
   "id": "f3c7c5e2-8e95-4dd9-8d5b-3e239d6d71c3",
   "metadata": {},
   "outputs": [],
   "source": [
    "# if you have let say id column and you want to use it as index numbers then use this function\n",
    "#pd.read_csv('placement.csv', index_col = 'Unnamed')"
   ]
  },
  {
   "cell_type": "markdown",
   "id": "e8abf7dc-400a-445c-b9c1-e095af1242c4",
   "metadata": {},
   "source": [
    "## Header Parameter"
   ]
  },
  {
   "cell_type": "code",
   "execution_count": 9,
   "id": "3737e00e-883f-4182-acbd-d93c3651d53c",
   "metadata": {},
   "outputs": [],
   "source": [
    "# if sometime your columns name become first row of your dataset then to convert this \n",
    "# row to header columns then use this function\n",
    "#pd.read_csv('placement.csv',header = 1)"
   ]
  },
  {
   "cell_type": "markdown",
   "id": "f3f445bc-c080-4e08-939d-1db38af75766",
   "metadata": {},
   "source": [
    "## usercols Parameter"
   ]
  },
  {
   "cell_type": "code",
   "execution_count": 11,
   "id": "a1005362-38e7-4dc3-a7e3-fcce9c800c2c",
   "metadata": {},
   "outputs": [
    {
     "data": {
      "text/html": [
       "<div>\n",
       "<style scoped>\n",
       "    .dataframe tbody tr th:only-of-type {\n",
       "        vertical-align: middle;\n",
       "    }\n",
       "\n",
       "    .dataframe tbody tr th {\n",
       "        vertical-align: top;\n",
       "    }\n",
       "\n",
       "    .dataframe thead th {\n",
       "        text-align: right;\n",
       "    }\n",
       "</style>\n",
       "<table border=\"1\" class=\"dataframe\">\n",
       "  <thead>\n",
       "    <tr style=\"text-align: right;\">\n",
       "      <th></th>\n",
       "      <th>cgpa</th>\n",
       "      <th>iq</th>\n",
       "    </tr>\n",
       "  </thead>\n",
       "  <tbody>\n",
       "    <tr>\n",
       "      <th>0</th>\n",
       "      <td>6.8</td>\n",
       "      <td>123.0</td>\n",
       "    </tr>\n",
       "    <tr>\n",
       "      <th>1</th>\n",
       "      <td>5.9</td>\n",
       "      <td>106.0</td>\n",
       "    </tr>\n",
       "    <tr>\n",
       "      <th>2</th>\n",
       "      <td>5.3</td>\n",
       "      <td>121.0</td>\n",
       "    </tr>\n",
       "    <tr>\n",
       "      <th>3</th>\n",
       "      <td>7.4</td>\n",
       "      <td>132.0</td>\n",
       "    </tr>\n",
       "    <tr>\n",
       "      <th>4</th>\n",
       "      <td>5.8</td>\n",
       "      <td>142.0</td>\n",
       "    </tr>\n",
       "    <tr>\n",
       "      <th>...</th>\n",
       "      <td>...</td>\n",
       "      <td>...</td>\n",
       "    </tr>\n",
       "    <tr>\n",
       "      <th>95</th>\n",
       "      <td>4.3</td>\n",
       "      <td>200.0</td>\n",
       "    </tr>\n",
       "    <tr>\n",
       "      <th>96</th>\n",
       "      <td>4.4</td>\n",
       "      <td>42.0</td>\n",
       "    </tr>\n",
       "    <tr>\n",
       "      <th>97</th>\n",
       "      <td>6.7</td>\n",
       "      <td>182.0</td>\n",
       "    </tr>\n",
       "    <tr>\n",
       "      <th>98</th>\n",
       "      <td>6.3</td>\n",
       "      <td>103.0</td>\n",
       "    </tr>\n",
       "    <tr>\n",
       "      <th>99</th>\n",
       "      <td>6.2</td>\n",
       "      <td>113.0</td>\n",
       "    </tr>\n",
       "  </tbody>\n",
       "</table>\n",
       "<p>100 rows × 2 columns</p>\n",
       "</div>"
      ],
      "text/plain": [
       "    cgpa     iq\n",
       "0    6.8  123.0\n",
       "1    5.9  106.0\n",
       "2    5.3  121.0\n",
       "3    7.4  132.0\n",
       "4    5.8  142.0\n",
       "..   ...    ...\n",
       "95   4.3  200.0\n",
       "96   4.4   42.0\n",
       "97   6.7  182.0\n",
       "98   6.3  103.0\n",
       "99   6.2  113.0\n",
       "\n",
       "[100 rows x 2 columns]"
      ]
     },
     "execution_count": 11,
     "metadata": {},
     "output_type": "execute_result"
    }
   ],
   "source": [
    "# when ever you want to use some of the columns from the data set you can filter them out while importing the data set.\n",
    "pd.read_csv('placement.csv',usecols = ['iq','cgpa'])"
   ]
  },
  {
   "cell_type": "markdown",
   "id": "39055264-f7c7-4262-b36d-bc9e72fa53ff",
   "metadata": {},
   "source": [
    "## Squeeze parameters"
   ]
  },
  {
   "cell_type": "code",
   "execution_count": 14,
   "id": "4910a10a-0f47-43f6-a6e2-985edb448a0e",
   "metadata": {},
   "outputs": [],
   "source": [
    "# when ever you want to use only one column then use squeeze parameter it will convert your column to pandas series it will not be a dataframe\n",
    "#pd.read_csv('placement.csv',usecols = ['iq'], squeeze = True)"
   ]
  },
  {
   "cell_type": "markdown",
   "id": "d945f8d8-8ad2-4143-bee7-4b4ee66b6c1b",
   "metadata": {},
   "source": [
    "## Skiprows/nrows Parameter"
   ]
  },
  {
   "cell_type": "code",
   "execution_count": 16,
   "id": "6bb9928b-7834-4144-bc9f-583b9342b2fa",
   "metadata": {},
   "outputs": [
    {
     "data": {
      "text/html": [
       "<div>\n",
       "<style scoped>\n",
       "    .dataframe tbody tr th:only-of-type {\n",
       "        vertical-align: middle;\n",
       "    }\n",
       "\n",
       "    .dataframe tbody tr th {\n",
       "        vertical-align: top;\n",
       "    }\n",
       "\n",
       "    .dataframe thead th {\n",
       "        text-align: right;\n",
       "    }\n",
       "</style>\n",
       "<table border=\"1\" class=\"dataframe\">\n",
       "  <thead>\n",
       "    <tr style=\"text-align: right;\">\n",
       "      <th></th>\n",
       "      <th>Unnamed: 0</th>\n",
       "      <th>cgpa</th>\n",
       "      <th>iq</th>\n",
       "      <th>placement</th>\n",
       "    </tr>\n",
       "  </thead>\n",
       "  <tbody>\n",
       "    <tr>\n",
       "      <th>0</th>\n",
       "      <td>0</td>\n",
       "      <td>6.8</td>\n",
       "      <td>123.0</td>\n",
       "      <td>1</td>\n",
       "    </tr>\n",
       "    <tr>\n",
       "      <th>1</th>\n",
       "      <td>1</td>\n",
       "      <td>5.9</td>\n",
       "      <td>106.0</td>\n",
       "      <td>0</td>\n",
       "    </tr>\n",
       "  </tbody>\n",
       "</table>\n",
       "</div>"
      ],
      "text/plain": [
       "   Unnamed: 0  cgpa     iq  placement\n",
       "0           0   6.8  123.0          1\n",
       "1           1   5.9  106.0          0"
      ]
     },
     "execution_count": 16,
     "metadata": {},
     "output_type": "execute_result"
    }
   ],
   "source": [
    "# to skip the rows \n",
    "pd.read_csv('placement.csv',skiprows = [1,2,3])\n",
    "# to restrict the rows to n number of rows\n",
    "pd.read_csv('placement.csv',nrows = 2)"
   ]
  },
  {
   "cell_type": "markdown",
   "id": "4bc5dd60-0655-4177-a2a0-08fb8c5bbfaf",
   "metadata": {},
   "source": [
    "## Encoding Parameter"
   ]
  },
  {
   "cell_type": "code",
   "execution_count": 17,
   "id": "7d774495-b1f7-469c-92cd-558b5facc828",
   "metadata": {},
   "outputs": [],
   "source": [
    "# if your dataset have not utf-8 encoding then use encoding parameter\n",
    "#pd.read_csv('placement.csv',encoding = 'encoding-name')"
   ]
  },
  {
   "cell_type": "markdown",
   "id": "07879d3e-f4ef-4aa1-a3d3-0a9347047ddd",
   "metadata": {},
   "source": [
    "## Skip bad lines"
   ]
  },
  {
   "cell_type": "code",
   "execution_count": 18,
   "id": "fb47f960-dd5c-42ba-919e-360edb72d427",
   "metadata": {},
   "outputs": [],
   "source": [
    "# if your dataset has different numbers of values in rows than skip those lines\n",
    "#pd.read_csv('placement.csv',error_bad_lines = false)"
   ]
  },
  {
   "cell_type": "markdown",
   "id": "f7869323-b9fe-46e4-86a7-ff1bbabebe79",
   "metadata": {},
   "source": [
    "## dtypes Parameter"
   ]
  },
  {
   "cell_type": "code",
   "execution_count": 19,
   "id": "de73891a-05dc-4ebc-a139-59971d2de568",
   "metadata": {},
   "outputs": [],
   "source": [
    "# to convert the values of column use this\n",
    "#pd.read_csv('placement.csv',dtypes = {'column-nmae': datatype})"
   ]
  },
  {
   "cell_type": "markdown",
   "id": "e727755b-2c73-4244-8181-13ee2e9638c4",
   "metadata": {},
   "source": [
    "## Handling dates"
   ]
  },
  {
   "cell_type": "code",
   "execution_count": 20,
   "id": "dc4a28ed-deb3-4da3-93d2-5dacc0037ff2",
   "metadata": {},
   "outputs": [],
   "source": [
    "# if you want parse dates as dates not as object then use this\n",
    "#pd.read_csv('placement.csv',parse_dates =['column-name-of-dates'])"
   ]
  },
  {
   "cell_type": "markdown",
   "id": "ba49f789-c5fe-46bb-adb2-e5eb09487df0",
   "metadata": {},
   "source": [
    "## Convertors"
   ]
  },
  {
   "cell_type": "code",
   "execution_count": 21,
   "id": "34c22c18-7198-4b47-9e3e-d75fdbc78914",
   "metadata": {},
   "outputs": [],
   "source": [
    "# if you want to do transformations like you can to make abbriveations of some column then use this\n",
    "#pd.read_csv('placement.csv',converters = {'column-name':name-of-functionToTransform}) note this function you have defined before"
   ]
  },
  {
   "cell_type": "markdown",
   "id": "a0424eeb-29f1-49e1-888c-ad86347c6985",
   "metadata": {},
   "source": [
    "## na_values Parametes"
   ]
  },
  {
   "cell_type": "code",
   "execution_count": 22,
   "id": "d4b4383e-5f2d-407b-a8f7-faa7c64ed373",
   "metadata": {},
   "outputs": [],
   "source": [
    "# if there is problem in your dataset let say there is hyphen or some thing else in values that should be consider as NaN then use this function\n",
    "#pd.read_csv('placement.csv',na_values = ['name of columns'])"
   ]
  },
  {
   "cell_type": "markdown",
   "id": "53370296-b60d-4c4d-8b9d-97f8c4cacc0b",
   "metadata": {},
   "source": [
    "## Loading a Huge dataset in Chunks"
   ]
  },
  {
   "cell_type": "code",
   "execution_count": 23,
   "id": "e41455c6-064f-4c8d-b855-c0430eec6d22",
   "metadata": {},
   "outputs": [
    {
     "name": "stdout",
     "output_type": "stream",
     "text": [
      "40\n",
      "40\n",
      "40\n",
      "40\n",
      "40\n",
      "40\n",
      "40\n",
      "40\n",
      "40\n",
      "40\n"
     ]
    }
   ],
   "source": [
    "# want to load chunks of dataset then use this\n",
    "data_frames = pd.read_csv('placement.csv',chunksize = 10)\n",
    "for chunks in data_frames:\n",
    "    print(chunks.size)"
   ]
  },
  {
   "cell_type": "code",
   "execution_count": null,
   "id": "14e3de1b-2edc-4e1f-8c91-5ef618ed1273",
   "metadata": {},
   "outputs": [],
   "source": []
  }
 ],
 "metadata": {
  "kernelspec": {
   "display_name": "Python 3 (ipykernel)",
   "language": "python",
   "name": "python3"
  },
  "language_info": {
   "codemirror_mode": {
    "name": "ipython",
    "version": 3
   },
   "file_extension": ".py",
   "mimetype": "text/x-python",
   "name": "python",
   "nbconvert_exporter": "python",
   "pygments_lexer": "ipython3",
   "version": "3.11.4"
  }
 },
 "nbformat": 4,
 "nbformat_minor": 5
}
