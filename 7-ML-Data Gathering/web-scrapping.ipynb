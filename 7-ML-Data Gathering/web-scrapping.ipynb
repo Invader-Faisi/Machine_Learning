{
 "cells": [
  {
   "cell_type": "markdown",
   "id": "7658bd26-911a-4261-a45d-b0ff1f306a71",
   "metadata": {},
   "source": [
    "# Working with Web Scrapping"
   ]
  },
  {
   "cell_type": "code",
   "execution_count": 1,
   "id": "83e2e4e2-2105-4934-9708-7528e8c95a81",
   "metadata": {},
   "outputs": [],
   "source": [
    "import pandas as pd\n",
    "import requests \n",
    "from bs4 import BeautifulSoup # used for webscrapping\n",
    "import unicodedata # for removing spaces from html"
   ]
  },
  {
   "cell_type": "code",
   "execution_count": 2,
   "id": "2681ce92-2624-474b-9181-d0c6d9f38ecb",
   "metadata": {},
   "outputs": [
    {
     "data": {
      "text/plain": [
       "<Response [403]>"
      ]
     },
     "execution_count": 2,
     "metadata": {},
     "output_type": "execute_result"
    }
   ],
   "source": [
    "# when we try access the url and we this response then it means robots file detected this as some \n",
    "# bots are try to access this page. \n",
    "requests.get('https://www.glassdoor.com/Reviews/index.htm?overall_rating_low=3.5&page=1&filterType=RATING_OVERALL')"
   ]
  },
  {
   "cell_type": "code",
   "execution_count": 3,
   "id": "d4a1993a-1c2c-444f-8f14-2e2f1eef8365",
   "metadata": {},
   "outputs": [],
   "source": [
    "# So to overcome this problem we have to some header information.\n",
    "headers = {'User-Agent' : 'Mozilla/5.0 (Windows NT 10.0; Win64; x64) AppleWebKit/537.36 (KHTML, like Gecko) Chrome/114.0.0.0 Safari/537.36'}\n",
    "webpage = requests.get('https://www.businesslist.pk/category/estate-agents',headers = headers).text"
   ]
  },
  {
   "cell_type": "code",
   "execution_count": 4,
   "id": "9f31735f-ba85-49a0-beae-1f6a1945ee71",
   "metadata": {},
   "outputs": [],
   "source": [
    "soup = BeautifulSoup(webpage, 'lxml')"
   ]
  },
  {
   "cell_type": "code",
   "execution_count": 5,
   "id": "60290740-ad45-448b-a5ba-7f5db8b180c6",
   "metadata": {},
   "outputs": [
    {
     "data": {
      "text/plain": [
       "'Z.M Enterprises'"
      ]
     },
     "execution_count": 5,
     "metadata": {},
     "output_type": "execute_result"
    }
   ],
   "source": [
    "soup.find_all('h4')[0].text"
   ]
  },
  {
   "cell_type": "code",
   "execution_count": 6,
   "id": "ba4f3b83-f658-47ce-b17e-66f49cca5bfb",
   "metadata": {},
   "outputs": [
    {
     "data": {
      "text/plain": [
       "30"
      ]
     },
     "execution_count": 6,
     "metadata": {},
     "output_type": "execute_result"
    }
   ],
   "source": [
    "len(soup.find_all('h4'))"
   ]
  },
  {
   "cell_type": "code",
   "execution_count": 7,
   "id": "02650a43-2045-421e-b426-a677ac7f1e6f",
   "metadata": {},
   "outputs": [
    {
     "name": "stdout",
     "output_type": "stream",
     "text": [
      "Z.M Enterprises\n",
      "Arcon Associates\n",
      "Wadaan Enterprises\n",
      "Niazi Builders\n",
      "Nasar Estate\n",
      "Rahman Property Dealer Timergara\n",
      "Royal Business Solutions (RBS)\n",
      "Sigma Properties and Marketing Pvt Ltd\n",
      "The Palm Residential Apartments\n",
      "Sarfaraz Hamid Properties\n",
      "Arish Associates\n",
      "Gillani Estate & Builders\n",
      "Nouman Estate & Builders\n",
      "Chanab Estate\n",
      "Lodhi Builders & Estate\n",
      "Mateen International\n",
      "Al-Hussain Properties\n",
      "Al-Hassan Estate , One of the Best Estate Real Estate in North Nazimabad, DHA karachi\n",
      "BOUTIQUE HOMES ISLAMABAD\n",
      "ilaan.com\n",
      "Ismail Estate\n",
      "Saddam Estates\n",
      "Saif Group\n",
      "Ali Builders & Developers\n",
      "RightDeed.com | Pakistan Largest Property Portal\n",
      "Sadaf Estate\n",
      "Sky Marketing\n",
      "Dha Realtors\n",
      "Green World Real Estate\n",
      "Gulistan Colony Nowshera-Mardan Road, Risalpur\n"
     ]
    }
   ],
   "source": [
    "for i in soup.find_all('h4'):\n",
    "    print(i.text)"
   ]
  },
  {
   "cell_type": "code",
   "execution_count": 8,
   "id": "2b9208b7-86e9-44ea-a8d0-244bb02d8ca3",
   "metadata": {},
   "outputs": [],
   "source": [
    "company = soup.find_all('div', class_ = 'company with_img g_0')"
   ]
  },
  {
   "cell_type": "code",
   "execution_count": 9,
   "id": "27bcd1dc-32b3-4779-a2fd-5fa20fb12c13",
   "metadata": {},
   "outputs": [
    {
     "data": {
      "text/plain": [
       "27"
      ]
     },
     "execution_count": 9,
     "metadata": {},
     "output_type": "execute_result"
    }
   ],
   "source": [
    "len(company)"
   ]
  },
  {
   "cell_type": "code",
   "execution_count": 12,
   "id": "5356626a-79c1-4874-938d-fc93aadcfcab",
   "metadata": {},
   "outputs": [],
   "source": [
    "comp_name = []\n",
    "address = []\n",
    "details = []\n",
    "verified = []\n",
    "listed = []\n",
    "for i in company:\n",
    "    #print(i.find('h4').text.strip())\n",
    "    comp_name.append(i.find('h4').text.strip())\n",
    "    address.append(i.find('div', class_ = \"address\").text.strip())\n",
    "    details.append(i.find('div', class_ = \"details\").text.strip())\n",
    "    verified.append(i.find('div', class_ = \"cont\").find('u', class_ = \"v\").text.strip())\n",
    "    temp = i.find('div', class_ = \"cont\").find('u', class_ = \"v v4\")\n",
    "    if temp is not None:\n",
    "        temp = temp.text.strip()\n",
    "        temp =  unicodedata.normalize('NFKD', temp)\n",
    "        listed.append(temp)\n",
    "    else:\n",
    "        listed.append('New Company')"
   ]
  },
  {
   "cell_type": "code",
   "execution_count": 16,
   "id": "822e3d7a-9a4b-43e9-87d3-b360c76ecb67",
   "metadata": {},
   "outputs": [
    {
     "data": {
      "text/plain": [
       "(27, 5)"
      ]
     },
     "execution_count": 16,
     "metadata": {},
     "output_type": "execute_result"
    }
   ],
   "source": [
    "data = {'Name' : comp_name, 'Address' : address, 'Details' : details, 'Verification' : verified, 'Listed_Years' : listed}\n",
    "data = pd.DataFrame(data)\n",
    "data.shape"
   ]
  },
  {
   "cell_type": "code",
   "execution_count": 34,
   "id": "2ee02d82-4d40-4a85-8c5b-baea47faad85",
   "metadata": {},
   "outputs": [],
   "source": [
    "final = []\n",
    "for i in range(1,11):\n",
    "    url = 'https://www.businesslist.pk/category/estate-agents/{}'.format(i)\n",
    "    headers = {'User-Agent' : 'Mozilla/5.0 (Windows NT 10.0; Win64; x64) AppleWebKit/537.36 (KHTML, like Gecko) Chrome/114.0.0.0 Safari/537.36'}\n",
    "    webpage = requests.get(url,headers = headers).text\n",
    "\n",
    "    soup = BeautifulSoup(webpage, 'lxml')\n",
    "    company = soup.find_all('div', class_ = 'company with_img g_0')\n",
    "    comp_name = []\n",
    "    address = []\n",
    "    details = []\n",
    "    verified = []\n",
    "    listed = []\n",
    "    for i in company:\n",
    "        comp_name.append(i.find('h4').text.strip())\n",
    "        address.append(i.find('div', class_ = \"address\").text.strip())\n",
    "        details.append(i.find('div', class_ = \"details\").text.strip())\n",
    "        temp = i.find('div', class_ = \"cont\").find('u', class_ = \"v\")\n",
    "        if temp is not None:\n",
    "            temp = temp.text.strip()\n",
    "            temp =  unicodedata.normalize('NFKD', temp)\n",
    "            verified.append(temp)\n",
    "        else:\n",
    "            verified.append('Not Verified')\n",
    "            \n",
    "        temp = i.find('div', class_ = \"cont\").find('u', class_ = \"v v4\")\n",
    "        if temp is not None:\n",
    "            temp = temp.text.strip()\n",
    "            temp =  unicodedata.normalize('NFKD', temp)\n",
    "            listed.append(temp)\n",
    "        else:\n",
    "            listed.append('New Company')\n",
    "    temp_data = {'Name' : comp_name, 'Address' : address, 'Details' : details, 'Verification' : verified, 'Listed_Years' : listed}\n",
    "    temp_data = pd.DataFrame(temp_data)\n",
    "    final.append(temp_data)     \n",
    "    data = pd.concat(final)"
   ]
  },
  {
   "cell_type": "code",
   "execution_count": 35,
   "id": "e86d5cbd-9efc-4929-bb00-7db85c5f8a76",
   "metadata": {},
   "outputs": [
    {
     "data": {
      "text/html": [
       "<div>\n",
       "<style scoped>\n",
       "    .dataframe tbody tr th:only-of-type {\n",
       "        vertical-align: middle;\n",
       "    }\n",
       "\n",
       "    .dataframe tbody tr th {\n",
       "        vertical-align: top;\n",
       "    }\n",
       "\n",
       "    .dataframe thead th {\n",
       "        text-align: right;\n",
       "    }\n",
       "</style>\n",
       "<table border=\"1\" class=\"dataframe\">\n",
       "  <thead>\n",
       "    <tr style=\"text-align: right;\">\n",
       "      <th></th>\n",
       "      <th>Name</th>\n",
       "      <th>Address</th>\n",
       "      <th>Details</th>\n",
       "      <th>Verification</th>\n",
       "      <th>Listed_Years</th>\n",
       "    </tr>\n",
       "  </thead>\n",
       "  <tbody>\n",
       "    <tr>\n",
       "      <th>0</th>\n",
       "      <td>Z.M Enterprises</td>\n",
       "      <td>DHA phase 7 extension Karachi, Karachi, Sindh</td>\n",
       "      <td>Z.M Enterprises is a real estate and general t...</td>\n",
       "      <td>Verified</td>\n",
       "      <td>+4  Years with us</td>\n",
       "    </tr>\n",
       "    <tr>\n",
       "      <th>1</th>\n",
       "      <td>Arcon Associates</td>\n",
       "      <td>Office No 1, First Floor Nehal Plaza KBHS Soci...</td>\n",
       "      <td>Arcon Associates Pakistan is a versatile firm ...</td>\n",
       "      <td>Verified</td>\n",
       "      <td>+7  Years with us</td>\n",
       "    </tr>\n",
       "    <tr>\n",
       "      <th>2</th>\n",
       "      <td>Wadaan Enterprises</td>\n",
       "      <td>Plot 29 C Lane 6 Ittehad Commercial DHA Karach...</td>\n",
       "      <td>We are Dealing in all sort of properties Sale,...</td>\n",
       "      <td>Verified</td>\n",
       "      <td>+8  Years with us</td>\n",
       "    </tr>\n",
       "    <tr>\n",
       "      <th>3</th>\n",
       "      <td>Nasar Estate</td>\n",
       "      <td>335-B, Iqbal Avenue Khyaban-e-jinah Road Near ...</td>\n",
       "      <td>We are real estate compny in Lahore establishe...</td>\n",
       "      <td>Verified</td>\n",
       "      <td>+7  Years with us</td>\n",
       "    </tr>\n",
       "    <tr>\n",
       "      <th>4</th>\n",
       "      <td>Rahman Property Dealer Timergara</td>\n",
       "      <td>1st FLOOR LAST BLOCK ZEB CITY CENTER TIMERGARA...</td>\n",
       "      <td>RAHMAN PROPERTY DEALER &amp; MOTER BARGAING CENTER...</td>\n",
       "      <td>Verified</td>\n",
       "      <td>+6  Years with us</td>\n",
       "    </tr>\n",
       "    <tr>\n",
       "      <th>...</th>\n",
       "      <td>...</td>\n",
       "      <td>...</td>\n",
       "      <td>...</td>\n",
       "      <td>...</td>\n",
       "      <td>...</td>\n",
       "    </tr>\n",
       "    <tr>\n",
       "      <th>2</th>\n",
       "      <td>Cheap Plots in DHA Lahore - Great Real Estate</td>\n",
       "      <td>2nd floor, 58-K Commercial Phase 1 DHA, Lahore...</td>\n",
       "      <td>Great Real Estate is working as a real estate ...</td>\n",
       "      <td>Verified</td>\n",
       "      <td>+4  Years with us</td>\n",
       "    </tr>\n",
       "    <tr>\n",
       "      <th>3</th>\n",
       "      <td>Nasar Estate</td>\n",
       "      <td>Wapda Town Lahore, Lahore, Punjab</td>\n",
       "      <td>Nasar Estate is real estate base company estab...</td>\n",
       "      <td>Verified</td>\n",
       "      <td>+6  Years with us</td>\n",
       "    </tr>\n",
       "    <tr>\n",
       "      <th>4</th>\n",
       "      <td>Two Roads Abode</td>\n",
       "      <td>2024 N 1100 East Road</td>\n",
       "      <td>Two Roads Abode is a vacation rental home conv...</td>\n",
       "      <td>Verified</td>\n",
       "      <td>+8  Years with us</td>\n",
       "    </tr>\n",
       "    <tr>\n",
       "      <th>5</th>\n",
       "      <td>Chukhat.com</td>\n",
       "      <td>Gulberg lahore, Lahore, Punjab</td>\n",
       "      <td>Chukhat.com by Bonjour Media (LTD) is the Paki...</td>\n",
       "      <td>Verified</td>\n",
       "      <td>+6  Years with us</td>\n",
       "    </tr>\n",
       "    <tr>\n",
       "      <th>6</th>\n",
       "      <td>DHA Lahore Realestate</td>\n",
       "      <td>30-T commercial phase 2 DHA Lahore, Pakistan, ...</td>\n",
       "      <td>We deal in DHA Islamabad, Lahore, Karachi. Bah...</td>\n",
       "      <td>Verified</td>\n",
       "      <td>+9  Years with us</td>\n",
       "    </tr>\n",
       "  </tbody>\n",
       "</table>\n",
       "<p>228 rows × 5 columns</p>\n",
       "</div>"
      ],
      "text/plain": [
       "                                             Name  \\\n",
       "0                                 Z.M Enterprises   \n",
       "1                                Arcon Associates   \n",
       "2                              Wadaan Enterprises   \n",
       "3                                    Nasar Estate   \n",
       "4                Rahman Property Dealer Timergara   \n",
       "..                                            ...   \n",
       "2   Cheap Plots in DHA Lahore - Great Real Estate   \n",
       "3                                    Nasar Estate   \n",
       "4                                 Two Roads Abode   \n",
       "5                                     Chukhat.com   \n",
       "6                           DHA Lahore Realestate   \n",
       "\n",
       "                                              Address  \\\n",
       "0       DHA phase 7 extension Karachi, Karachi, Sindh   \n",
       "1   Office No 1, First Floor Nehal Plaza KBHS Soci...   \n",
       "2   Plot 29 C Lane 6 Ittehad Commercial DHA Karach...   \n",
       "3   335-B, Iqbal Avenue Khyaban-e-jinah Road Near ...   \n",
       "4   1st FLOOR LAST BLOCK ZEB CITY CENTER TIMERGARA...   \n",
       "..                                                ...   \n",
       "2   2nd floor, 58-K Commercial Phase 1 DHA, Lahore...   \n",
       "3                   Wapda Town Lahore, Lahore, Punjab   \n",
       "4                               2024 N 1100 East Road   \n",
       "5                      Gulberg lahore, Lahore, Punjab   \n",
       "6   30-T commercial phase 2 DHA Lahore, Pakistan, ...   \n",
       "\n",
       "                                              Details Verification  \\\n",
       "0   Z.M Enterprises is a real estate and general t...     Verified   \n",
       "1   Arcon Associates Pakistan is a versatile firm ...     Verified   \n",
       "2   We are Dealing in all sort of properties Sale,...     Verified   \n",
       "3   We are real estate compny in Lahore establishe...     Verified   \n",
       "4   RAHMAN PROPERTY DEALER & MOTER BARGAING CENTER...     Verified   \n",
       "..                                                ...          ...   \n",
       "2   Great Real Estate is working as a real estate ...     Verified   \n",
       "3   Nasar Estate is real estate base company estab...     Verified   \n",
       "4   Two Roads Abode is a vacation rental home conv...     Verified   \n",
       "5   Chukhat.com by Bonjour Media (LTD) is the Paki...     Verified   \n",
       "6   We deal in DHA Islamabad, Lahore, Karachi. Bah...     Verified   \n",
       "\n",
       "         Listed_Years  \n",
       "0   +4  Years with us  \n",
       "1   +7  Years with us  \n",
       "2   +8  Years with us  \n",
       "3   +7  Years with us  \n",
       "4   +6  Years with us  \n",
       "..                ...  \n",
       "2   +4  Years with us  \n",
       "3   +6  Years with us  \n",
       "4   +8  Years with us  \n",
       "5   +6  Years with us  \n",
       "6   +9  Years with us  \n",
       "\n",
       "[228 rows x 5 columns]"
      ]
     },
     "execution_count": 35,
     "metadata": {},
     "output_type": "execute_result"
    }
   ],
   "source": [
    "data"
   ]
  },
  {
   "cell_type": "code",
   "execution_count": 36,
   "id": "0fb8c259-b580-4b1a-967b-ccf3983f6984",
   "metadata": {},
   "outputs": [
    {
     "data": {
      "text/plain": [
       "(228, 5)"
      ]
     },
     "execution_count": 36,
     "metadata": {},
     "output_type": "execute_result"
    }
   ],
   "source": [
    "data.shape"
   ]
  },
  {
   "cell_type": "code",
   "execution_count": 37,
   "id": "242cfe63-356e-4337-b266-abfbe524ea01",
   "metadata": {},
   "outputs": [],
   "source": [
    "data.to_csv('pak-real-estate.csv')"
   ]
  },
  {
   "cell_type": "code",
   "execution_count": null,
   "id": "c3195227-737e-41c3-a9cd-7280dcc3f590",
   "metadata": {},
   "outputs": [],
   "source": []
  }
 ],
 "metadata": {
  "kernelspec": {
   "display_name": "Python 3 (ipykernel)",
   "language": "python",
   "name": "python3"
  },
  "language_info": {
   "codemirror_mode": {
    "name": "ipython",
    "version": 3
   },
   "file_extension": ".py",
   "mimetype": "text/x-python",
   "name": "python",
   "nbconvert_exporter": "python",
   "pygments_lexer": "ipython3",
   "version": "3.11.4"
  }
 },
 "nbformat": 4,
 "nbformat_minor": 5
}
