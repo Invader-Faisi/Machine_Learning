{
 "cells": [
  {
   "cell_type": "code",
   "execution_count": 1,
   "id": "9d00f407-9032-42b5-9d2e-ce1f1b02bee4",
   "metadata": {},
   "outputs": [
    {
     "data": {
      "text/html": [
       "<div>\n",
       "<style scoped>\n",
       "    .dataframe tbody tr th:only-of-type {\n",
       "        vertical-align: middle;\n",
       "    }\n",
       "\n",
       "    .dataframe tbody tr th {\n",
       "        vertical-align: top;\n",
       "    }\n",
       "\n",
       "    .dataframe thead th {\n",
       "        text-align: right;\n",
       "    }\n",
       "</style>\n",
       "<table border=\"1\" class=\"dataframe\">\n",
       "  <thead>\n",
       "    <tr style=\"text-align: right;\">\n",
       "      <th></th>\n",
       "      <th>Unnamed: 0</th>\n",
       "      <th>cgpa</th>\n",
       "      <th>iq</th>\n",
       "      <th>placement</th>\n",
       "    </tr>\n",
       "  </thead>\n",
       "  <tbody>\n",
       "    <tr>\n",
       "      <th>0</th>\n",
       "      <td>0</td>\n",
       "      <td>6.8</td>\n",
       "      <td>123.0</td>\n",
       "      <td>1</td>\n",
       "    </tr>\n",
       "    <tr>\n",
       "      <th>1</th>\n",
       "      <td>1</td>\n",
       "      <td>5.9</td>\n",
       "      <td>106.0</td>\n",
       "      <td>0</td>\n",
       "    </tr>\n",
       "    <tr>\n",
       "      <th>2</th>\n",
       "      <td>2</td>\n",
       "      <td>5.3</td>\n",
       "      <td>121.0</td>\n",
       "      <td>0</td>\n",
       "    </tr>\n",
       "    <tr>\n",
       "      <th>3</th>\n",
       "      <td>3</td>\n",
       "      <td>7.4</td>\n",
       "      <td>132.0</td>\n",
       "      <td>1</td>\n",
       "    </tr>\n",
       "    <tr>\n",
       "      <th>4</th>\n",
       "      <td>4</td>\n",
       "      <td>5.8</td>\n",
       "      <td>142.0</td>\n",
       "      <td>0</td>\n",
       "    </tr>\n",
       "  </tbody>\n",
       "</table>\n",
       "</div>"
      ],
      "text/plain": [
       "   Unnamed: 0  cgpa     iq  placement\n",
       "0           0   6.8  123.0          1\n",
       "1           1   5.9  106.0          0\n",
       "2           2   5.3  121.0          0\n",
       "3           3   7.4  132.0          1\n",
       "4           4   5.8  142.0          0"
      ]
     },
     "execution_count": 1,
     "metadata": {},
     "output_type": "execute_result"
    }
   ],
   "source": [
    "import numpy as np\n",
    "import pandas as pd\n",
    "import matplotlib.pyplot as plt\n",
    "from sklearn.model_selection import train_test_split\n",
    "from sklearn.preprocessing import StandardScaler\n",
    "from sklearn.linear_model import LogisticRegression\n",
    "from sklearn.metrics import accuracy_score\n",
    "\n",
    "data = pd.read_csv('placement.csv')\n",
    "data.head()"
   ]
  },
  {
   "cell_type": "code",
   "execution_count": 2,
   "id": "7638965e-c8c5-43d7-bb10-675a4114fb04",
   "metadata": {},
   "outputs": [
    {
     "data": {
      "text/plain": [
       "(100, 4)"
      ]
     },
     "execution_count": 2,
     "metadata": {},
     "output_type": "execute_result"
    }
   ],
   "source": [
    "data.shape"
   ]
  },
  {
   "cell_type": "markdown",
   "id": "de26f1eb-fc16-4f43-b62a-3423a61a9725",
   "metadata": {},
   "source": [
    "# Tasks to perform in the simple project\n",
    "1. Preprocessing + EDA + Feature Selection\n",
    "2. Extract input and Output cols\n",
    "3. Scale the values\n",
    "4. Train test Split\n",
    "5. Train the Model\n",
    "6. Evaluate the Model + Model Selection\n",
    "7. Deploy the Model"
   ]
  },
  {
   "cell_type": "markdown",
   "id": "1ad194da-d6b7-4480-b3af-8d4e4ced2686",
   "metadata": {},
   "source": [
    "## 1. Preprocessing \n",
    "We are going to get rid of unnamed col because it is use less"
   ]
  },
  {
   "cell_type": "code",
   "execution_count": 3,
   "id": "c79daf2e-07a7-4d30-8002-bfc60dea49a2",
   "metadata": {},
   "outputs": [
    {
     "data": {
      "text/html": [
       "<div>\n",
       "<style scoped>\n",
       "    .dataframe tbody tr th:only-of-type {\n",
       "        vertical-align: middle;\n",
       "    }\n",
       "\n",
       "    .dataframe tbody tr th {\n",
       "        vertical-align: top;\n",
       "    }\n",
       "\n",
       "    .dataframe thead th {\n",
       "        text-align: right;\n",
       "    }\n",
       "</style>\n",
       "<table border=\"1\" class=\"dataframe\">\n",
       "  <thead>\n",
       "    <tr style=\"text-align: right;\">\n",
       "      <th></th>\n",
       "      <th>cgpa</th>\n",
       "      <th>iq</th>\n",
       "      <th>placement</th>\n",
       "    </tr>\n",
       "  </thead>\n",
       "  <tbody>\n",
       "    <tr>\n",
       "      <th>0</th>\n",
       "      <td>6.8</td>\n",
       "      <td>123.0</td>\n",
       "      <td>1</td>\n",
       "    </tr>\n",
       "    <tr>\n",
       "      <th>1</th>\n",
       "      <td>5.9</td>\n",
       "      <td>106.0</td>\n",
       "      <td>0</td>\n",
       "    </tr>\n",
       "    <tr>\n",
       "      <th>2</th>\n",
       "      <td>5.3</td>\n",
       "      <td>121.0</td>\n",
       "      <td>0</td>\n",
       "    </tr>\n",
       "    <tr>\n",
       "      <th>3</th>\n",
       "      <td>7.4</td>\n",
       "      <td>132.0</td>\n",
       "      <td>1</td>\n",
       "    </tr>\n",
       "    <tr>\n",
       "      <th>4</th>\n",
       "      <td>5.8</td>\n",
       "      <td>142.0</td>\n",
       "      <td>0</td>\n",
       "    </tr>\n",
       "  </tbody>\n",
       "</table>\n",
       "</div>"
      ],
      "text/plain": [
       "   cgpa     iq  placement\n",
       "0   6.8  123.0          1\n",
       "1   5.9  106.0          0\n",
       "2   5.3  121.0          0\n",
       "3   7.4  132.0          1\n",
       "4   5.8  142.0          0"
      ]
     },
     "execution_count": 3,
     "metadata": {},
     "output_type": "execute_result"
    }
   ],
   "source": [
    "# Want All the rows and all the cols except 1\n",
    "data = data.iloc[:,1:]\n",
    "data.head()"
   ]
  },
  {
   "cell_type": "code",
   "execution_count": 4,
   "id": "f1cd279d-3575-4fde-9d3d-26d3885845f4",
   "metadata": {},
   "outputs": [
    {
     "data": {
      "text/plain": [
       "<matplotlib.collections.PathCollection at 0x1330b50f790>"
      ]
     },
     "execution_count": 4,
     "metadata": {},
     "output_type": "execute_result"
    },
    {
     "data": {
      "image/png": "[encoded data removed]",
      "text/plain": [
       "<Figure size 640x480 with 1 Axes>"
      ]
     },
     "metadata": {},
     "output_type": "display_data"
    }
   ],
   "source": [
    "# checking the data points on 2d plane\n",
    "plt.scatter(data['cgpa'],data['iq'])"
   ]
  },
  {
   "cell_type": "code",
   "execution_count": 5,
   "id": "36fc6106-e803-42fc-9985-b7e0c6f31498",
   "metadata": {},
   "outputs": [
    {
     "data": {
      "text/plain": [
       "<matplotlib.collections.PathCollection at 0x1330b683510>"
      ]
     },
     "execution_count": 5,
     "metadata": {},
     "output_type": "execute_result"
    },
    {
     "data": {
      "image/png": "[encoded data removed]",
      "text/plain": [
       "<Figure size 640x480 with 1 Axes>"
      ]
     },
     "metadata": {},
     "output_type": "display_data"
    }
   ],
   "source": [
    "# Now i want to check the placement of students\n",
    "# Yellow got the placement\n",
    "plt.scatter(data['cgpa'],data['iq'], c = data['placement'])"
   ]
  },
  {
   "cell_type": "markdown",
   "id": "24141da7-9195-426e-b1c0-83c4cee2955e",
   "metadata": {},
   "source": [
    "## Classification Problem \n",
    "As you can see the data is classified into two parts Placement and No Placement.\n",
    "So we will be using Logistic regression in this project"
   ]
  },
  {
   "cell_type": "markdown",
   "id": "dcf8f18f-1c7d-44bc-94cd-770724698664",
   "metadata": {},
   "source": [
    "## 2. Extract input and output values"
   ]
  },
  {
   "cell_type": "code",
   "execution_count": 6,
   "id": "1331d62f-fa76-4bf2-872f-cf60bd4fd6be",
   "metadata": {},
   "outputs": [],
   "source": [
    "independent_val = data.iloc[:,0:2]\n",
    "dependent_val = data.iloc[:,-1]"
   ]
  },
  {
   "cell_type": "code",
   "execution_count": 7,
   "id": "b31bde72-6806-47b9-9c0c-d96c6cf17398",
   "metadata": {},
   "outputs": [
    {
     "data": {
      "text/html": [
       "<div>\n",
       "<style scoped>\n",
       "    .dataframe tbody tr th:only-of-type {\n",
       "        vertical-align: middle;\n",
       "    }\n",
       "\n",
       "    .dataframe tbody tr th {\n",
       "        vertical-align: top;\n",
       "    }\n",
       "\n",
       "    .dataframe thead th {\n",
       "        text-align: right;\n",
       "    }\n",
       "</style>\n",
       "<table border=\"1\" class=\"dataframe\">\n",
       "  <thead>\n",
       "    <tr style=\"text-align: right;\">\n",
       "      <th></th>\n",
       "      <th>cgpa</th>\n",
       "      <th>iq</th>\n",
       "    </tr>\n",
       "  </thead>\n",
       "  <tbody>\n",
       "    <tr>\n",
       "      <th>0</th>\n",
       "      <td>6.8</td>\n",
       "      <td>123.0</td>\n",
       "    </tr>\n",
       "    <tr>\n",
       "      <th>1</th>\n",
       "      <td>5.9</td>\n",
       "      <td>106.0</td>\n",
       "    </tr>\n",
       "    <tr>\n",
       "      <th>2</th>\n",
       "      <td>5.3</td>\n",
       "      <td>121.0</td>\n",
       "    </tr>\n",
       "    <tr>\n",
       "      <th>3</th>\n",
       "      <td>7.4</td>\n",
       "      <td>132.0</td>\n",
       "    </tr>\n",
       "    <tr>\n",
       "      <th>4</th>\n",
       "      <td>5.8</td>\n",
       "      <td>142.0</td>\n",
       "    </tr>\n",
       "    <tr>\n",
       "      <th>...</th>\n",
       "      <td>...</td>\n",
       "      <td>...</td>\n",
       "    </tr>\n",
       "    <tr>\n",
       "      <th>95</th>\n",
       "      <td>4.3</td>\n",
       "      <td>200.0</td>\n",
       "    </tr>\n",
       "    <tr>\n",
       "      <th>96</th>\n",
       "      <td>4.4</td>\n",
       "      <td>42.0</td>\n",
       "    </tr>\n",
       "    <tr>\n",
       "      <th>97</th>\n",
       "      <td>6.7</td>\n",
       "      <td>182.0</td>\n",
       "    </tr>\n",
       "    <tr>\n",
       "      <th>98</th>\n",
       "      <td>6.3</td>\n",
       "      <td>103.0</td>\n",
       "    </tr>\n",
       "    <tr>\n",
       "      <th>99</th>\n",
       "      <td>6.2</td>\n",
       "      <td>113.0</td>\n",
       "    </tr>\n",
       "  </tbody>\n",
       "</table>\n",
       "<p>100 rows × 2 columns</p>\n",
       "</div>"
      ],
      "text/plain": [
       "    cgpa     iq\n",
       "0    6.8  123.0\n",
       "1    5.9  106.0\n",
       "2    5.3  121.0\n",
       "3    7.4  132.0\n",
       "4    5.8  142.0\n",
       "..   ...    ...\n",
       "95   4.3  200.0\n",
       "96   4.4   42.0\n",
       "97   6.7  182.0\n",
       "98   6.3  103.0\n",
       "99   6.2  113.0\n",
       "\n",
       "[100 rows x 2 columns]"
      ]
     },
     "execution_count": 7,
     "metadata": {},
     "output_type": "execute_result"
    }
   ],
   "source": [
    "independent_val"
   ]
  },
  {
   "cell_type": "code",
   "execution_count": 8,
   "id": "423d57cf-7b24-4d25-911e-7626a90d2ef8",
   "metadata": {},
   "outputs": [
    {
     "data": {
      "text/plain": [
       "0     1\n",
       "1     0\n",
       "2     0\n",
       "3     1\n",
       "4     0\n",
       "     ..\n",
       "95    0\n",
       "96    0\n",
       "97    1\n",
       "98    1\n",
       "99    1\n",
       "Name: placement, Length: 100, dtype: int64"
      ]
     },
     "execution_count": 8,
     "metadata": {},
     "output_type": "execute_result"
    }
   ],
   "source": [
    "dependent_val"
   ]
  },
  {
   "cell_type": "markdown",
   "id": "b220643b-9f8a-4cf8-85e1-cc27d5c6d6ff",
   "metadata": {},
   "source": [
    "## 3. Train Test Split"
   ]
  },
  {
   "cell_type": "code",
   "execution_count": 9,
   "id": "1001ae82-2f53-41a8-886d-16ac36833679",
   "metadata": {},
   "outputs": [],
   "source": [
    "# this function of model_selection takes 3 params \n",
    "# independent , dependent, test_size\n",
    "# it returns x of train and test, y of train and test\n",
    "indep_train,indep_test,depen_train,depen_test = train_test_split(independent_val,dependent_val,test_size = 0.1)"
   ]
  },
  {
   "cell_type": "code",
   "execution_count": 10,
   "id": "bebde4ce-e062-45d9-b87f-aad32fab6c8c",
   "metadata": {},
   "outputs": [
    {
     "data": {
      "text/html": [
       "<div>\n",
       "<style scoped>\n",
       "    .dataframe tbody tr th:only-of-type {\n",
       "        vertical-align: middle;\n",
       "    }\n",
       "\n",
       "    .dataframe tbody tr th {\n",
       "        vertical-align: top;\n",
       "    }\n",
       "\n",
       "    .dataframe thead th {\n",
       "        text-align: right;\n",
       "    }\n",
       "</style>\n",
       "<table border=\"1\" class=\"dataframe\">\n",
       "  <thead>\n",
       "    <tr style=\"text-align: right;\">\n",
       "      <th></th>\n",
       "      <th>cgpa</th>\n",
       "      <th>iq</th>\n",
       "    </tr>\n",
       "  </thead>\n",
       "  <tbody>\n",
       "    <tr>\n",
       "      <th>12</th>\n",
       "      <td>5.4</td>\n",
       "      <td>139.0</td>\n",
       "    </tr>\n",
       "    <tr>\n",
       "      <th>81</th>\n",
       "      <td>5.4</td>\n",
       "      <td>107.0</td>\n",
       "    </tr>\n",
       "    <tr>\n",
       "      <th>6</th>\n",
       "      <td>5.7</td>\n",
       "      <td>143.0</td>\n",
       "    </tr>\n",
       "    <tr>\n",
       "      <th>16</th>\n",
       "      <td>5.2</td>\n",
       "      <td>224.0</td>\n",
       "    </tr>\n",
       "    <tr>\n",
       "      <th>40</th>\n",
       "      <td>4.9</td>\n",
       "      <td>134.0</td>\n",
       "    </tr>\n",
       "    <tr>\n",
       "      <th>...</th>\n",
       "      <td>...</td>\n",
       "      <td>...</td>\n",
       "    </tr>\n",
       "    <tr>\n",
       "      <th>82</th>\n",
       "      <td>6.5</td>\n",
       "      <td>37.0</td>\n",
       "    </tr>\n",
       "    <tr>\n",
       "      <th>11</th>\n",
       "      <td>6.9</td>\n",
       "      <td>138.0</td>\n",
       "    </tr>\n",
       "    <tr>\n",
       "      <th>30</th>\n",
       "      <td>7.6</td>\n",
       "      <td>128.0</td>\n",
       "    </tr>\n",
       "    <tr>\n",
       "      <th>21</th>\n",
       "      <td>7.1</td>\n",
       "      <td>151.0</td>\n",
       "    </tr>\n",
       "    <tr>\n",
       "      <th>17</th>\n",
       "      <td>3.3</td>\n",
       "      <td>183.0</td>\n",
       "    </tr>\n",
       "  </tbody>\n",
       "</table>\n",
       "<p>90 rows × 2 columns</p>\n",
       "</div>"
      ],
      "text/plain": [
       "    cgpa     iq\n",
       "12   5.4  139.0\n",
       "81   5.4  107.0\n",
       "6    5.7  143.0\n",
       "16   5.2  224.0\n",
       "40   4.9  134.0\n",
       "..   ...    ...\n",
       "82   6.5   37.0\n",
       "11   6.9  138.0\n",
       "30   7.6  128.0\n",
       "21   7.1  151.0\n",
       "17   3.3  183.0\n",
       "\n",
       "[90 rows x 2 columns]"
      ]
     },
     "execution_count": 10,
     "metadata": {},
     "output_type": "execute_result"
    }
   ],
   "source": [
    "indep_train"
   ]
  },
  {
   "cell_type": "code",
   "execution_count": 11,
   "id": "6f671593-4416-4537-96bc-b774ea90b9ca",
   "metadata": {},
   "outputs": [
    {
     "data": {
      "text/html": [
       "<div>\n",
       "<style scoped>\n",
       "    .dataframe tbody tr th:only-of-type {\n",
       "        vertical-align: middle;\n",
       "    }\n",
       "\n",
       "    .dataframe tbody tr th {\n",
       "        vertical-align: top;\n",
       "    }\n",
       "\n",
       "    .dataframe thead th {\n",
       "        text-align: right;\n",
       "    }\n",
       "</style>\n",
       "<table border=\"1\" class=\"dataframe\">\n",
       "  <thead>\n",
       "    <tr style=\"text-align: right;\">\n",
       "      <th></th>\n",
       "      <th>cgpa</th>\n",
       "      <th>iq</th>\n",
       "    </tr>\n",
       "  </thead>\n",
       "  <tbody>\n",
       "    <tr>\n",
       "      <th>96</th>\n",
       "      <td>4.4</td>\n",
       "      <td>42.0</td>\n",
       "    </tr>\n",
       "    <tr>\n",
       "      <th>2</th>\n",
       "      <td>5.3</td>\n",
       "      <td>121.0</td>\n",
       "    </tr>\n",
       "    <tr>\n",
       "      <th>28</th>\n",
       "      <td>5.2</td>\n",
       "      <td>90.0</td>\n",
       "    </tr>\n",
       "    <tr>\n",
       "      <th>56</th>\n",
       "      <td>6.1</td>\n",
       "      <td>65.0</td>\n",
       "    </tr>\n",
       "    <tr>\n",
       "      <th>70</th>\n",
       "      <td>6.3</td>\n",
       "      <td>127.0</td>\n",
       "    </tr>\n",
       "    <tr>\n",
       "      <th>3</th>\n",
       "      <td>7.4</td>\n",
       "      <td>132.0</td>\n",
       "    </tr>\n",
       "    <tr>\n",
       "      <th>49</th>\n",
       "      <td>5.4</td>\n",
       "      <td>135.0</td>\n",
       "    </tr>\n",
       "    <tr>\n",
       "      <th>52</th>\n",
       "      <td>7.0</td>\n",
       "      <td>175.0</td>\n",
       "    </tr>\n",
       "    <tr>\n",
       "      <th>67</th>\n",
       "      <td>5.0</td>\n",
       "      <td>118.0</td>\n",
       "    </tr>\n",
       "    <tr>\n",
       "      <th>99</th>\n",
       "      <td>6.2</td>\n",
       "      <td>113.0</td>\n",
       "    </tr>\n",
       "  </tbody>\n",
       "</table>\n",
       "</div>"
      ],
      "text/plain": [
       "    cgpa     iq\n",
       "96   4.4   42.0\n",
       "2    5.3  121.0\n",
       "28   5.2   90.0\n",
       "56   6.1   65.0\n",
       "70   6.3  127.0\n",
       "3    7.4  132.0\n",
       "49   5.4  135.0\n",
       "52   7.0  175.0\n",
       "67   5.0  118.0\n",
       "99   6.2  113.0"
      ]
     },
     "execution_count": 11,
     "metadata": {},
     "output_type": "execute_result"
    }
   ],
   "source": [
    "indep_test"
   ]
  },
  {
   "cell_type": "code",
   "execution_count": 12,
   "id": "d926851e-d794-43f0-bf17-beb771a4ca38",
   "metadata": {},
   "outputs": [
    {
     "data": {
      "text/plain": [
       "12    0\n",
       "81    0\n",
       "6     0\n",
       "16    0\n",
       "40    0\n",
       "     ..\n",
       "82    1\n",
       "11    1\n",
       "30    1\n",
       "21    1\n",
       "17    0\n",
       "Name: placement, Length: 90, dtype: int64"
      ]
     },
     "execution_count": 12,
     "metadata": {},
     "output_type": "execute_result"
    }
   ],
   "source": [
    "depen_train"
   ]
  },
  {
   "cell_type": "code",
   "execution_count": 13,
   "id": "af78687a-7d9b-40be-938b-e18bb9a08e3e",
   "metadata": {},
   "outputs": [
    {
     "data": {
      "text/plain": [
       "96    0\n",
       "2     0\n",
       "28    0\n",
       "56    0\n",
       "70    1\n",
       "3     1\n",
       "49    0\n",
       "52    1\n",
       "67    0\n",
       "99    1\n",
       "Name: placement, dtype: int64"
      ]
     },
     "execution_count": 13,
     "metadata": {},
     "output_type": "execute_result"
    }
   ],
   "source": [
    "depen_test"
   ]
  },
  {
   "cell_type": "markdown",
   "id": "7c0d0ad4-f379-4e36-8dbd-4875ca523b00",
   "metadata": {},
   "source": [
    "## 4. Scaling the Data\n",
    "It is not neccassory but its good to scale the values"
   ]
  },
  {
   "cell_type": "code",
   "execution_count": 14,
   "id": "9fa7e1cb-626f-4da7-b0e3-77ed3c661c58",
   "metadata": {},
   "outputs": [],
   "source": [
    "# this function will fit the data and then transform it\n",
    "scaler = StandardScaler()\n",
    "indep_train = scaler.fit_transform(indep_train)\n",
    "# now we the pattern we dont need to fit the data anymore\n",
    "indep_test = scaler.transform(indep_test)"
   ]
  },
  {
   "cell_type": "code",
   "execution_count": 15,
   "id": "aaa72518-0725-47df-951e-1a04954c9004",
   "metadata": {},
   "outputs": [
    {
     "data": {
      "text/plain": [
       "array([[-0.52440888,  0.35328982],\n",
       "       [-0.52440888, -0.44787135],\n",
       "       [-0.26603224,  0.45343497],\n",
       "       [-0.69665997,  2.48137416],\n",
       "       [-0.9550366 ,  0.22810839],\n",
       "       [ 1.11197649, -0.97363336],\n",
       "       [ 0.25072103,  0.07789067],\n",
       "       [ 0.33684658,  0.40336239],\n",
       "       [ 0.33684658, -0.22254477],\n",
       "       [ 1.80098085,  1.02926955],\n",
       "       [-1.04116215,  0.95416069],\n",
       "       [-1.04116215,  0.40336239],\n",
       "       [ 1.11197649, -1.87493967],\n",
       "       [-0.78278551, -1.47435909],\n",
       "       [ 0.50909767,  0.32825353],\n",
       "       [ 1.28422758,  0.12796324],\n",
       "       [ 0.76747431,  0.35328982],\n",
       "       [-0.78278551,  0.07789067],\n",
       "       [-1.04116215,  1.10437841],\n",
       "       [-0.0076556 , -1.47435909],\n",
       "       [-0.69665997,  0.90408812],\n",
       "       [-1.47178988,  1.88050329],\n",
       "       [-0.1799067 ,  0.42839868],\n",
       "       [ 0.68134876, -0.04729076],\n",
       "       [ 0.59522321,  0.72883412],\n",
       "       [ 0.59522321,  1.42985014],\n",
       "       [ 0.76747431, -0.7232705 ],\n",
       "       [-0.78278551,  1.27963242],\n",
       "       [ 0.85359985,  0.35328982],\n",
       "       [-0.0076556 , -0.02225448],\n",
       "       [-0.86891106, -1.54946795],\n",
       "       [-0.9550366 ,  1.78035814],\n",
       "       [ 1.97323194,  1.07934213],\n",
       "       [-0.9550366 , -1.59954052],\n",
       "       [-0.0076556 ,  0.60365268],\n",
       "       [ 0.85359985,  1.855467  ],\n",
       "       [ 0.42297212,  0.87905183],\n",
       "       [ 1.37035312, -0.8985245 ],\n",
       "       [-1.1272877 , -1.8248671 ],\n",
       "       [-0.26603224,  1.10437841],\n",
       "       [-1.73016651, -0.62312535],\n",
       "       [-0.0076556 , -2.0001211 ],\n",
       "       [-0.9550366 ,  0.7538704 ],\n",
       "       [ 1.28422758, -1.59954052],\n",
       "       [-0.86891106, -0.84845193],\n",
       "       [-1.1272877 , -0.09736334],\n",
       "       [-0.26603224,  0.37832611],\n",
       "       [-1.81629206, -0.39779877],\n",
       "       [-1.73016651, -1.24903251],\n",
       "       [ 1.54260422, -0.27261734],\n",
       "       [ 0.07846994, -0.54801649],\n",
       "       [ 0.50909767, -0.12239962],\n",
       "       [-0.61053442, -0.27261734],\n",
       "       [ 1.28422758,  0.82897926],\n",
       "       [ 0.85359985, -0.32268991],\n",
       "       [ 0.07846994, -1.09881479],\n",
       "       [-0.9550366 , -0.12239962],\n",
       "       [ 0.68134876,  0.40336239],\n",
       "       [ 1.11197649,  0.30321725],\n",
       "       [-1.38566433,  0.60365268],\n",
       "       [-0.0076556 , -0.57305278],\n",
       "       [ 0.42297212, -0.87348821],\n",
       "       [-0.1799067 ,  1.02926955],\n",
       "       [ 0.85359985, -1.52443166],\n",
       "       [ 0.68134876, -0.32268991],\n",
       "       [-1.1272877 , -0.94859707],\n",
       "       [-0.69665997, -0.37276249],\n",
       "       [ 0.9397254 , -1.92501224],\n",
       "       [-0.9550366 ,  0.65372526],\n",
       "       [-0.26603224,  0.17803581],\n",
       "       [ 0.68134876, -0.87348821],\n",
       "       [-0.69665997,  0.17803581],\n",
       "       [-2.16079424,  2.70670074],\n",
       "       [ 1.11197649, -0.22254477],\n",
       "       [-0.52440888, -0.27261734],\n",
       "       [ 0.25072103, -0.54801649],\n",
       "       [ 0.07846994,  0.77890669],\n",
       "       [ 2.14548303, -0.12239962],\n",
       "       [ 0.42297212,  0.12796324],\n",
       "       [-1.04116215, -0.32268991],\n",
       "       [ 1.80098085,  0.60365268],\n",
       "       [ 1.71485531, -1.14888737],\n",
       "       [-1.21341324,  0.52854382],\n",
       "       [-0.09378115, -0.47290763],\n",
       "       [ 0.07846994,  0.17803581],\n",
       "       [ 0.42297212, -2.20041139],\n",
       "       [ 0.76747431,  0.32825353],\n",
       "       [ 1.37035312,  0.07789067],\n",
       "       [ 0.9397254 ,  0.65372526],\n",
       "       [-2.33304533,  1.45488642]])"
      ]
     },
     "execution_count": 15,
     "metadata": {},
     "output_type": "execute_result"
    }
   ],
   "source": [
    "indep_train"
   ]
  },
  {
   "cell_type": "code",
   "execution_count": 16,
   "id": "5b7f7e64-ca97-47be-8f9d-e9ffe966cd95",
   "metadata": {},
   "outputs": [
    {
     "data": {
      "text/plain": [
       "array([[-1.38566433, -2.07522996],\n",
       "       [-0.61053442, -0.09736334],\n",
       "       [-0.69665997, -0.87348821],\n",
       "       [ 0.07846994, -1.49939538],\n",
       "       [ 0.25072103,  0.05285438],\n",
       "       [ 1.19810203,  0.17803581],\n",
       "       [-0.52440888,  0.25314467],\n",
       "       [ 0.85359985,  1.25459613],\n",
       "       [-0.86891106, -0.1724722 ],\n",
       "       [ 0.16459549, -0.29765363]])"
      ]
     },
     "execution_count": 16,
     "metadata": {},
     "output_type": "execute_result"
    }
   ],
   "source": [
    "indep_test"
   ]
  },
  {
   "cell_type": "markdown",
   "id": "354e6e02-f2b1-4db3-aac2-c8315ef476da",
   "metadata": {},
   "source": [
    "## 5. Training the Data\n",
    "using the LogisticRegression Model"
   ]
  },
  {
   "cell_type": "code",
   "execution_count": 17,
   "id": "8583b01b-5e43-4363-bb7e-475fc2594757",
   "metadata": {},
   "outputs": [
    {
     "data": {
      "text/html": [
       "<style>#sk-container-id-1 {color: black;background-color: white;}#sk-container-id-1 pre{padding: 0;}#sk-container-id-1 div.sk-toggleable {background-color: white;}#sk-container-id-1 label.sk-toggleable__label {cursor: pointer;display: block;width: 100%;margin-bottom: 0;padding: 0.3em;box-sizing: border-box;text-align: center;}#sk-container-id-1 label.sk-toggleable__label-arrow:before {content: \"▸\";float: left;margin-right: 0.25em;color: #696969;}#sk-container-id-1 label.sk-toggleable__label-arrow:hover:before {color: black;}#sk-container-id-1 div.sk-estimator:hover label.sk-toggleable__label-arrow:before {color: black;}#sk-container-id-1 div.sk-toggleable__content {max-height: 0;max-width: 0;overflow: hidden;text-align: left;background-color: #f0f8ff;}#sk-container-id-1 div.sk-toggleable__content pre {margin: 0.2em;color: black;border-radius: 0.25em;background-color: #f0f8ff;}#sk-container-id-1 input.sk-toggleable__control:checked~div.sk-toggleable__content {max-height: 200px;max-width: 100%;overflow: auto;}#sk-container-id-1 input.sk-toggleable__control:checked~label.sk-toggleable__label-arrow:before {content: \"▾\";}#sk-container-id-1 div.sk-estimator input.sk-toggleable__control:checked~label.sk-toggleable__label {background-color: #d4ebff;}#sk-container-id-1 div.sk-label input.sk-toggleable__control:checked~label.sk-toggleable__label {background-color: #d4ebff;}#sk-container-id-1 input.sk-hidden--visually {border: 0;clip: rect(1px 1px 1px 1px);clip: rect(1px, 1px, 1px, 1px);height: 1px;margin: -1px;overflow: hidden;padding: 0;position: absolute;width: 1px;}#sk-container-id-1 div.sk-estimator {font-family: monospace;background-color: #f0f8ff;border: 1px dotted black;border-radius: 0.25em;box-sizing: border-box;margin-bottom: 0.5em;}#sk-container-id-1 div.sk-estimator:hover {background-color: #d4ebff;}#sk-container-id-1 div.sk-parallel-item::after {content: \"\";width: 100%;border-bottom: 1px solid gray;flex-grow: 1;}#sk-container-id-1 div.sk-label:hover label.sk-toggleable__label {background-color: #d4ebff;}#sk-container-id-1 div.sk-serial::before {content: \"\";position: absolute;border-left: 1px solid gray;box-sizing: border-box;top: 0;bottom: 0;left: 50%;z-index: 0;}#sk-container-id-1 div.sk-serial {display: flex;flex-direction: column;align-items: center;background-color: white;padding-right: 0.2em;padding-left: 0.2em;position: relative;}#sk-container-id-1 div.sk-item {position: relative;z-index: 1;}#sk-container-id-1 div.sk-parallel {display: flex;align-items: stretch;justify-content: center;background-color: white;position: relative;}#sk-container-id-1 div.sk-item::before, #sk-container-id-1 div.sk-parallel-item::before {content: \"\";position: absolute;border-left: 1px solid gray;box-sizing: border-box;top: 0;bottom: 0;left: 50%;z-index: -1;}#sk-container-id-1 div.sk-parallel-item {display: flex;flex-direction: column;z-index: 1;position: relative;background-color: white;}#sk-container-id-1 div.sk-parallel-item:first-child::after {align-self: flex-end;width: 50%;}#sk-container-id-1 div.sk-parallel-item:last-child::after {align-self: flex-start;width: 50%;}#sk-container-id-1 div.sk-parallel-item:only-child::after {width: 0;}#sk-container-id-1 div.sk-dashed-wrapped {border: 1px dashed gray;margin: 0 0.4em 0.5em 0.4em;box-sizing: border-box;padding-bottom: 0.4em;background-color: white;}#sk-container-id-1 div.sk-label label {font-family: monospace;font-weight: bold;display: inline-block;line-height: 1.2em;}#sk-container-id-1 div.sk-label-container {text-align: center;}#sk-container-id-1 div.sk-container {/* jupyter's `normalize.less` sets `[hidden] { display: none; }` but bootstrap.min.css set `[hidden] { display: none !important; }` so we also need the `!important` here to be able to override the default hidden behavior on the sphinx rendered scikit-learn.org. See: https://github.com/scikit-learn/scikit-learn/issues/21755 */display: inline-block !important;position: relative;}#sk-container-id-1 div.sk-text-repr-fallback {display: none;}</style><div id=\"sk-container-id-1\" class=\"sk-top-container\"><div class=\"sk-text-repr-fallback\"><pre>LogisticRegression()</pre><b>In a Jupyter environment, please rerun this cell to show the HTML representation or trust the notebook. <br />On GitHub, the HTML representation is unable to render, please try loading this page with nbviewer.org.</b></div><div class=\"sk-container\" hidden><div class=\"sk-item\"><div class=\"sk-estimator sk-toggleable\"><input class=\"sk-toggleable__control sk-hidden--visually\" id=\"sk-estimator-id-1\" type=\"checkbox\" checked><label for=\"sk-estimator-id-1\" class=\"sk-toggleable__label sk-toggleable__label-arrow\">LogisticRegression</label><div class=\"sk-toggleable__content\"><pre>LogisticRegression()</pre></div></div></div></div></div>"
      ],
      "text/plain": [
       "LogisticRegression()"
      ]
     },
     "execution_count": 17,
     "metadata": {},
     "output_type": "execute_result"
    }
   ],
   "source": [
    "L_regression = LogisticRegression()\n",
    "L_regression.fit(indep_train,depen_train)"
   ]
  },
  {
   "cell_type": "markdown",
   "id": "ca135f5b-5717-44f9-9063-f8016f143028",
   "metadata": {},
   "source": [
    "## 6. Evaluate the Model"
   ]
  },
  {
   "cell_type": "code",
   "execution_count": 18,
   "id": "2690c3cb-eb55-4a74-8b95-73e5e5ca3d18",
   "metadata": {},
   "outputs": [
    {
     "data": {
      "text/plain": [
       "array([0, 0, 0, 1, 1, 1, 0, 1, 0, 1], dtype=int64)"
      ]
     },
     "execution_count": 18,
     "metadata": {},
     "output_type": "execute_result"
    }
   ],
   "source": [
    "# Predicted result by the model\n",
    "predictions = L_regression.predict(indep_test)\n",
    "predictions"
   ]
  },
  {
   "cell_type": "code",
   "execution_count": 19,
   "id": "41b1e79e-1252-42e4-a116-559e025c9f21",
   "metadata": {},
   "outputs": [
    {
     "data": {
      "text/plain": [
       "[0, 0, 0, 0, 1, 1, 0, 1, 0, 1]"
      ]
     },
     "execution_count": 19,
     "metadata": {},
     "output_type": "execute_result"
    }
   ],
   "source": [
    "# Actual result\n",
    "list(depen_test)"
   ]
  },
  {
   "cell_type": "code",
   "execution_count": 20,
   "id": "dadf34ac-b649-47b6-a0d3-cf16b441006a",
   "metadata": {},
   "outputs": [
    {
     "data": {
      "text/plain": [
       "0.9"
      ]
     },
     "execution_count": 20,
     "metadata": {},
     "output_type": "execute_result"
    }
   ],
   "source": [
    "# Now we will calculate the accuracu score\n",
    "accuracy_score(depen_test,predictions)"
   ]
  },
  {
   "cell_type": "code",
   "execution_count": 21,
   "id": "e445b34a-3682-4f43-b4bc-b3bfc4dbd81c",
   "metadata": {},
   "outputs": [
    {
     "data": {
      "text/plain": [
       "<Axes: >"
      ]
     },
     "execution_count": 21,
     "metadata": {},
     "output_type": "execute_result"
    },
    {
     "data": {
      "image/png": "[encoded data removed]",
      "text/plain": [
       "<Figure size 640x480 with 1 Axes>"
      ]
     },
     "metadata": {},
     "output_type": "display_data"
    }
   ],
   "source": [
    "# Now we will see the decision boundary\n",
    "from mlxtend.plotting import plot_decision_regions\n",
    "# this function takes x_train, y_train , clf, legend = 2\n",
    "plot_decision_regions(indep_train,depen_train.values, clf = L_regression, legend = 2)"
   ]
  },
  {
   "cell_type": "markdown",
   "id": "f5d53816-a556-449f-9acc-a44f5f97fca8",
   "metadata": {},
   "source": [
    "## Deploying the Model\n",
    "pickle library is used to convert your object into binary file"
   ]
  },
  {
   "cell_type": "code",
   "execution_count": 22,
   "id": "4c90393f-4817-491e-91da-ab93e8d6bd5c",
   "metadata": {},
   "outputs": [],
   "source": [
    "import pickle\n",
    "# this functin will take object(model) and create an binary file in the same folder\n",
    "pickle.dump(L_regression,open('model-pkl','wb'))"
   ]
  },
  {
   "cell_type": "code",
   "execution_count": null,
   "id": "7349c171-78c9-4efe-8207-aebf10e07772",
   "metadata": {},
   "outputs": [],
   "source": []
  }
 ],
 "metadata": {
  "kernelspec": {
   "display_name": "Python 3 (ipykernel)",
   "language": "python",
   "name": "python3"
  },
  "language_info": {
   "codemirror_mode": {
    "name": "ipython",
    "version": 3
   },
   "file_extension": ".py",
   "mimetype": "text/x-python",
   "name": "python",
   "nbconvert_exporter": "python",
   "pygments_lexer": "ipython3",
   "version": "3.11.4"
  }
 },
 "nbformat": 4,
 "nbformat_minor": 5
}
